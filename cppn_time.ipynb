{
 "cells": [
  {
   "cell_type": "code",
   "execution_count": 1,
   "metadata": {},
   "outputs": [],
   "source": [
    "import torch\n",
    "import matplotlib.pyplot as plt\n",
    "import numpy as np\n",
    "import matplotlib.animation as animation\n",
    "import ffmpeg\n",
    "\n",
    "from IPython.display import HTML"
   ]
  },
  {
   "cell_type": "code",
   "execution_count": 2,
   "metadata": {},
   "outputs": [],
   "source": [
    "device = torch.device('cuda')\n",
    "\n",
    "N_HIDDEN = 8\n",
    "WIDTH = 20\n",
    "\n",
    "# STEP_SIZE = 0.005\n",
    "MAX_T = 3\n",
    "FRAMES = 300\n",
    "\n",
    "# 4K\n",
    "# RESOLUTION_X = 3840\n",
    "# RESOLUTION_Y = 2160\n",
    "\n",
    "# 1080p\n",
    "RESOLUTION_X = 1920\n",
    "RESOLUTION_Y = 1080"
   ]
  },
  {
   "cell_type": "code",
   "execution_count": 3,
   "metadata": {},
   "outputs": [],
   "source": [
    "def getLinear(in_dims, out_dims):\n",
    "    layer = torch.nn.Linear(in_dims, out_dims)\n",
    "    torch.nn.init.uniform_(layer.weight, -2.0, 2.0)\n",
    "    return layer"
   ]
  },
  {
   "cell_type": "code",
   "execution_count": 4,
   "metadata": {},
   "outputs": [],
   "source": [
    "def getModel():\n",
    "    layers = [\n",
    "        getLinear(3, WIDTH),\n",
    "        torch.nn.Tanh()\n",
    "    ]\n",
    "\n",
    "    for i in range(N_HIDDEN):\n",
    "        layers.append(getLinear(WIDTH, WIDTH))\n",
    "        layers.append(torch.nn.Tanh())\n",
    "\n",
    "    layers.append(getLinear(WIDTH, 3))\n",
    "    layers.append(torch.nn.Sigmoid())\n",
    "\n",
    "    model = torch.nn.Sequential(*layers)\n",
    "    model = model.to(device)\n",
    "    \n",
    "    return model"
   ]
  },
  {
   "cell_type": "code",
   "execution_count": 5,
   "metadata": {},
   "outputs": [],
   "source": [
    "model = getModel()\n",
    "\n",
    "# velocities = []\n",
    "# for p in model.parameters():\n",
    "#     velocities = torch.randn_like(p)\n",
    "\n",
    "# def stepModel():\n",
    "#     model.requires_grad_(False)\n",
    "    \n",
    "#     for v, param in zip(velocities, model.parameters()):\n",
    "#         param += v * STEP_SIZE"
   ]
  },
  {
   "cell_type": "code",
   "execution_count": 16,
   "metadata": {},
   "outputs": [],
   "source": [
    "# coords_x = np.linspace(start=-1, stop=1, num=RESOLUTION_X, dtype=np.float32)\n",
    "coords_x = np.sin(np.linspace(start=0, stop=np.pi, num=RESOLUTION_X, dtype=np.float32))\n",
    "coords_x = (coords_x * 2) - 1\n",
    "\n",
    "# coords_y = np.linspace(start=-1, stop=1, num=RESOLUTION_Y, dtype=np.float32)\n",
    "coords_y = np.sin(np.linspace(start=0, stop=np.pi, num=RESOLUTION_Y, dtype=np.float32))\n",
    "coords_y = (coords_y * 2) - 1\n",
    "\n",
    "\n",
    "# coords_t = np.linspace(start=-MAX_T, stop=MAX_T, num=FRAMES, dtype=np.float32)\n",
    "coords_t = np.tan(np.linspace(start=0, stop=np.pi, num=FRAMES, dtype=np.float32))\n",
    "coords_t = (2 * coords_t) - 1\n",
    "\n",
    "coords = np.stack(np.meshgrid(coords_x, coords_y, coords_t))\n",
    "coords = np.transpose(coords, [1, 2, 3, 0])\n",
    "\n",
    "coords_flat = coords.reshape(-1, 3)\n",
    "coords_flat = torch.tensor(coords_flat).to(torch.float)\n",
    "coords_flat = coords_flat.to(device)"
   ]
  },
  {
   "cell_type": "code",
   "execution_count": 17,
   "metadata": {},
   "outputs": [],
   "source": [
    "N_CHUNKS = 1000\n",
    "\n",
    "def get_outs(chunk_flat):\n",
    "    with torch.no_grad():\n",
    "        out_flat = model(chunk_flat)\n",
    "    out = out_flat.to('cpu').numpy()\n",
    "    return out\n",
    "    \n",
    "\n",
    "with torch.no_grad():\n",
    "    out_chunks = []\n",
    "    for chunk in torch.chunk(coords_flat, N_CHUNKS):\n",
    "        out_chunks.append(model(chunk).to('cpu'))"
   ]
  },
  {
   "cell_type": "code",
   "execution_count": 18,
   "metadata": {},
   "outputs": [],
   "source": [
    "out_flat = torch.cat(out_chunks)\n",
    "out = out_flat.reshape(RESOLUTION_Y, RESOLUTION_X, FRAMES, 3).numpy()"
   ]
  },
  {
   "cell_type": "code",
   "execution_count": 19,
   "metadata": {},
   "outputs": [],
   "source": [
    "# From: https://github.com/kkroening/ffmpeg-python/issues/246\n",
    "\n",
    "frames = np.transpose(out, [2, 0, 1, 3]) * 255\n",
    "\n",
    "def vidwrite(fn, images, framerate=60, vcodec='libx264'):\n",
    "    if not isinstance(images, np.ndarray):\n",
    "        images = np.asarray(images)\n",
    "    n,height,width,channels = images.shape\n",
    "    process = (\n",
    "        ffmpeg\n",
    "            .input('pipe:', format='rawvideo', pix_fmt='rgb24', s='{}x{}'.format(width, height))\n",
    "            .output(fn, pix_fmt='yuv420p', vcodec=vcodec, r=framerate)\n",
    "            .overwrite_output()\n",
    "            .run_async(pipe_stdin=True)\n",
    "    )\n",
    "    for frame in images:\n",
    "        process.stdin.write(\n",
    "            frame\n",
    "                .astype(np.uint8)\n",
    "                .tobytes()\n",
    "        )\n",
    "    process.stdin.close()\n",
    "    process.wait()"
   ]
  },
  {
   "cell_type": "code",
   "execution_count": 20,
   "metadata": {},
   "outputs": [],
   "source": [
    "vidwrite(\"out.mp4\", frames)"
   ]
  },
  {
   "cell_type": "code",
   "execution_count": null,
   "metadata": {},
   "outputs": [],
   "source": []
  }
 ],
 "metadata": {
  "kernelspec": {
   "display_name": "pytorch",
   "language": "python",
   "name": "pytorch"
  },
  "language_info": {
   "codemirror_mode": {
    "name": "ipython",
    "version": 3
   },
   "file_extension": ".py",
   "mimetype": "text/x-python",
   "name": "python",
   "nbconvert_exporter": "python",
   "pygments_lexer": "ipython3",
   "version": "3.8.6"
  }
 },
 "nbformat": 4,
 "nbformat_minor": 4
}
